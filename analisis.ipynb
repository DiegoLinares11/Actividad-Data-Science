{
 "cells": [
  {
   "cell_type": "code",
   "execution_count": null,
   "id": "eb8f6af8",
   "metadata": {},
   "outputs": [],
   "source": [
    "# Importar librerías necesarias\n",
    "import pandas as pd\n",
    "import numpy as np\n",
    "\n",
    "# Leer el archivo Excel\n",
    "df = pd.read_excel(\"dataset/Cryotherapy.xlsx\") \n",
    "\n",
    "# Ver las primeras filas\n",
    "df.head()\n"
   ]
  }
 ],
 "metadata": {
  "language_info": {
   "name": "python"
  }
 },
 "nbformat": 4,
 "nbformat_minor": 5
}
