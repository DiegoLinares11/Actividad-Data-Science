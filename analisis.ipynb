{
 "cells": [
  {
   "cell_type": "code",
   "execution_count": 2,
   "id": "eb8f6af8",
   "metadata": {},
   "outputs": [
    {
     "data": {
      "text/html": [
       "<div>\n",
       "<style scoped>\n",
       "    .dataframe tbody tr th:only-of-type {\n",
       "        vertical-align: middle;\n",
       "    }\n",
       "\n",
       "    .dataframe tbody tr th {\n",
       "        vertical-align: top;\n",
       "    }\n",
       "\n",
       "    .dataframe thead th {\n",
       "        text-align: right;\n",
       "    }\n",
       "</style>\n",
       "<table border=\"1\" class=\"dataframe\">\n",
       "  <thead>\n",
       "    <tr style=\"text-align: right;\">\n",
       "      <th></th>\n",
       "      <th>sex</th>\n",
       "      <th>age</th>\n",
       "      <th>Time</th>\n",
       "      <th>Number_of_Warts</th>\n",
       "      <th>Type</th>\n",
       "      <th>Area</th>\n",
       "      <th>Result_of_Treatment</th>\n",
       "    </tr>\n",
       "  </thead>\n",
       "  <tbody>\n",
       "    <tr>\n",
       "      <th>0</th>\n",
       "      <td>1</td>\n",
       "      <td>35</td>\n",
       "      <td>12.00</td>\n",
       "      <td>5</td>\n",
       "      <td>1</td>\n",
       "      <td>100</td>\n",
       "      <td>0</td>\n",
       "    </tr>\n",
       "    <tr>\n",
       "      <th>1</th>\n",
       "      <td>1</td>\n",
       "      <td>29</td>\n",
       "      <td>7.00</td>\n",
       "      <td>5</td>\n",
       "      <td>1</td>\n",
       "      <td>96</td>\n",
       "      <td>1</td>\n",
       "    </tr>\n",
       "    <tr>\n",
       "      <th>2</th>\n",
       "      <td>1</td>\n",
       "      <td>50</td>\n",
       "      <td>8.00</td>\n",
       "      <td>1</td>\n",
       "      <td>3</td>\n",
       "      <td>132</td>\n",
       "      <td>0</td>\n",
       "    </tr>\n",
       "    <tr>\n",
       "      <th>3</th>\n",
       "      <td>1</td>\n",
       "      <td>32</td>\n",
       "      <td>11.75</td>\n",
       "      <td>7</td>\n",
       "      <td>3</td>\n",
       "      <td>750</td>\n",
       "      <td>0</td>\n",
       "    </tr>\n",
       "    <tr>\n",
       "      <th>4</th>\n",
       "      <td>1</td>\n",
       "      <td>67</td>\n",
       "      <td>9.25</td>\n",
       "      <td>1</td>\n",
       "      <td>1</td>\n",
       "      <td>42</td>\n",
       "      <td>0</td>\n",
       "    </tr>\n",
       "  </tbody>\n",
       "</table>\n",
       "</div>"
      ],
      "text/plain": [
       "   sex  age   Time  Number_of_Warts  Type  Area  Result_of_Treatment\n",
       "0    1   35  12.00                5     1   100                    0\n",
       "1    1   29   7.00                5     1    96                    1\n",
       "2    1   50   8.00                1     3   132                    0\n",
       "3    1   32  11.75                7     3   750                    0\n",
       "4    1   67   9.25                1     1    42                    0"
      ]
     },
     "execution_count": 2,
     "metadata": {},
     "output_type": "execute_result"
    }
   ],
   "source": [
    "# Importar librerías necesarias\n",
    "import pandas as pd\n",
    "import numpy as np\n",
    "\n",
    "# Leer el archivo Excel\n",
    "df = pd.read_excel(\"dataset/Cryotherapy.xlsx\") \n",
    "\n",
    "# Ver las primeras filas\n",
    "df.head()\n"
   ]
  },
  {
   "cell_type": "markdown",
   "id": "a5273d9e",
   "metadata": {},
   "source": [
    "## Ver información general del dataset"
   ]
  },
  {
   "cell_type": "code",
   "execution_count": 3,
   "id": "3d77cb5a",
   "metadata": {},
   "outputs": [
    {
     "name": "stdout",
     "output_type": "stream",
     "text": [
      "<class 'pandas.core.frame.DataFrame'>\n",
      "RangeIndex: 90 entries, 0 to 89\n",
      "Data columns (total 7 columns):\n",
      " #   Column               Non-Null Count  Dtype  \n",
      "---  ------               --------------  -----  \n",
      " 0   sex                  90 non-null     int64  \n",
      " 1   age                  90 non-null     int64  \n",
      " 2   Time                 90 non-null     float64\n",
      " 3   Number_of_Warts      90 non-null     int64  \n",
      " 4   Type                 90 non-null     int64  \n",
      " 5   Area                 90 non-null     int64  \n",
      " 6   Result_of_Treatment  90 non-null     int64  \n",
      "dtypes: float64(1), int64(6)\n",
      "memory usage: 5.1 KB\n"
     ]
    }
   ],
   "source": [
    "df.info()"
   ]
  },
  {
   "cell_type": "markdown",
   "id": "f9f338b7",
   "metadata": {},
   "source": [
    "## Resumen estadistico basico "
   ]
  },
  {
   "cell_type": "code",
   "execution_count": 4,
   "id": "a5d5f737",
   "metadata": {},
   "outputs": [
    {
     "data": {
      "text/html": [
       "<div>\n",
       "<style scoped>\n",
       "    .dataframe tbody tr th:only-of-type {\n",
       "        vertical-align: middle;\n",
       "    }\n",
       "\n",
       "    .dataframe tbody tr th {\n",
       "        vertical-align: top;\n",
       "    }\n",
       "\n",
       "    .dataframe thead th {\n",
       "        text-align: right;\n",
       "    }\n",
       "</style>\n",
       "<table border=\"1\" class=\"dataframe\">\n",
       "  <thead>\n",
       "    <tr style=\"text-align: right;\">\n",
       "      <th></th>\n",
       "      <th>sex</th>\n",
       "      <th>age</th>\n",
       "      <th>Time</th>\n",
       "      <th>Number_of_Warts</th>\n",
       "      <th>Type</th>\n",
       "      <th>Area</th>\n",
       "      <th>Result_of_Treatment</th>\n",
       "    </tr>\n",
       "  </thead>\n",
       "  <tbody>\n",
       "    <tr>\n",
       "      <th>count</th>\n",
       "      <td>90.000000</td>\n",
       "      <td>90.000000</td>\n",
       "      <td>90.000000</td>\n",
       "      <td>90.000000</td>\n",
       "      <td>90.000000</td>\n",
       "      <td>90.000000</td>\n",
       "      <td>90.000000</td>\n",
       "    </tr>\n",
       "    <tr>\n",
       "      <th>mean</th>\n",
       "      <td>1.477778</td>\n",
       "      <td>28.600000</td>\n",
       "      <td>7.666667</td>\n",
       "      <td>5.511111</td>\n",
       "      <td>1.700000</td>\n",
       "      <td>85.833333</td>\n",
       "      <td>0.533333</td>\n",
       "    </tr>\n",
       "    <tr>\n",
       "      <th>std</th>\n",
       "      <td>0.502304</td>\n",
       "      <td>13.360852</td>\n",
       "      <td>3.406661</td>\n",
       "      <td>3.567155</td>\n",
       "      <td>0.905042</td>\n",
       "      <td>131.733153</td>\n",
       "      <td>0.501683</td>\n",
       "    </tr>\n",
       "    <tr>\n",
       "      <th>min</th>\n",
       "      <td>1.000000</td>\n",
       "      <td>15.000000</td>\n",
       "      <td>0.250000</td>\n",
       "      <td>1.000000</td>\n",
       "      <td>1.000000</td>\n",
       "      <td>4.000000</td>\n",
       "      <td>0.000000</td>\n",
       "    </tr>\n",
       "    <tr>\n",
       "      <th>25%</th>\n",
       "      <td>1.000000</td>\n",
       "      <td>18.000000</td>\n",
       "      <td>4.562500</td>\n",
       "      <td>2.000000</td>\n",
       "      <td>1.000000</td>\n",
       "      <td>20.000000</td>\n",
       "      <td>0.000000</td>\n",
       "    </tr>\n",
       "    <tr>\n",
       "      <th>50%</th>\n",
       "      <td>1.000000</td>\n",
       "      <td>25.500000</td>\n",
       "      <td>8.500000</td>\n",
       "      <td>5.000000</td>\n",
       "      <td>1.000000</td>\n",
       "      <td>70.000000</td>\n",
       "      <td>1.000000</td>\n",
       "    </tr>\n",
       "    <tr>\n",
       "      <th>75%</th>\n",
       "      <td>2.000000</td>\n",
       "      <td>35.000000</td>\n",
       "      <td>10.687500</td>\n",
       "      <td>8.000000</td>\n",
       "      <td>3.000000</td>\n",
       "      <td>100.000000</td>\n",
       "      <td>1.000000</td>\n",
       "    </tr>\n",
       "    <tr>\n",
       "      <th>max</th>\n",
       "      <td>2.000000</td>\n",
       "      <td>67.000000</td>\n",
       "      <td>12.000000</td>\n",
       "      <td>12.000000</td>\n",
       "      <td>3.000000</td>\n",
       "      <td>750.000000</td>\n",
       "      <td>1.000000</td>\n",
       "    </tr>\n",
       "  </tbody>\n",
       "</table>\n",
       "</div>"
      ],
      "text/plain": [
       "             sex        age       Time  Number_of_Warts       Type  \\\n",
       "count  90.000000  90.000000  90.000000        90.000000  90.000000   \n",
       "mean    1.477778  28.600000   7.666667         5.511111   1.700000   \n",
       "std     0.502304  13.360852   3.406661         3.567155   0.905042   \n",
       "min     1.000000  15.000000   0.250000         1.000000   1.000000   \n",
       "25%     1.000000  18.000000   4.562500         2.000000   1.000000   \n",
       "50%     1.000000  25.500000   8.500000         5.000000   1.000000   \n",
       "75%     2.000000  35.000000  10.687500         8.000000   3.000000   \n",
       "max     2.000000  67.000000  12.000000        12.000000   3.000000   \n",
       "\n",
       "             Area  Result_of_Treatment  \n",
       "count   90.000000            90.000000  \n",
       "mean    85.833333             0.533333  \n",
       "std    131.733153             0.501683  \n",
       "min      4.000000             0.000000  \n",
       "25%     20.000000             0.000000  \n",
       "50%     70.000000             1.000000  \n",
       "75%    100.000000             1.000000  \n",
       "max    750.000000             1.000000  "
      ]
     },
     "execution_count": 4,
     "metadata": {},
     "output_type": "execute_result"
    }
   ],
   "source": [
    "df.describe(include='all')"
   ]
  },
  {
   "cell_type": "code",
   "execution_count": 5,
   "id": "72f00754",
   "metadata": {},
   "outputs": [
    {
     "data": {
      "text/plain": [
       "sex                    0\n",
       "age                    0\n",
       "Time                   0\n",
       "Number_of_Warts        0\n",
       "Type                   0\n",
       "Area                   0\n",
       "Result_of_Treatment    0\n",
       "dtype: int64"
      ]
     },
     "execution_count": 5,
     "metadata": {},
     "output_type": "execute_result"
    }
   ],
   "source": [
    "# Contar valores nulos en cada columna\n",
    "df.isnull().sum()\n"
   ]
  },
  {
   "cell_type": "code",
   "execution_count": 6,
   "id": "7da83845",
   "metadata": {},
   "outputs": [
    {
     "name": "stdout",
     "output_type": "stream",
     "text": [
      "sex: [1 2]\n",
      "age: [35 29 50 32 67 41 36 59 20 34 21 15 17 23 27 18 22 16 28 40 30 24 19 63]\n",
      "Time: [12.    7.    8.   11.75  9.25 11.    3.5   4.5  11.25 10.75  6.    2.\n",
      "  3.75  5.25  8.75  4.25  5.75  5.5   8.5   4.75  9.75  2.5   0.5   9.5\n",
      "  7.25 10.5   2.75  5.    1.5  11.5  10.    4.   10.25  7.75  0.25  8.25]\n",
      "Number_of_Warts: [ 5  1  7  2  3 12  6  9 11  4  8 10]\n",
      "Type: [1 3 2]\n",
      "Area: [100  96 132 750  42  20   8   6 150  35  30   4  70  10  63  72  80  60\n",
      " 115  95  75 160]\n",
      "Result_of_Treatment: [0 1]\n"
     ]
    }
   ],
   "source": [
    "# Verificar valores únicos en cada columna (útil para categóricas)\n",
    "for col in df.columns:\n",
    "    print(f\"{col}: {df[col].unique()}\")"
   ]
  },
  {
   "cell_type": "markdown",
   "id": "e626d69a",
   "metadata": {},
   "source": [
    "# Limpieza de datos "
   ]
  },
  {
   "cell_type": "markdown",
   "id": "0e14066c",
   "metadata": {},
   "source": [
    "Aca lo que vamos a hacer es el contrario de data mining, que en este caso ya tenemos las variables codificadas pero para el entendimiento de los datos pues no sabemos a que se refiere con que es 1 y que es 2 en sexo asi que las cambiaremos"
   ]
  },
  {
   "cell_type": "code",
   "execution_count": 7,
   "id": "f199d156",
   "metadata": {},
   "outputs": [],
   "source": [
    "df['sex'] = df['sex'].map({1: 'masculino', 2: 'femenino'})"
   ]
  },
  {
   "cell_type": "markdown",
   "id": "6f35fae8",
   "metadata": {},
   "source": [
    "Ahora el response to treatment tambien lo limpiaremos.. "
   ]
  },
  {
   "cell_type": "code",
   "execution_count": 8,
   "id": "8098a142",
   "metadata": {},
   "outputs": [],
   "source": [
    "df['Result_of_Treatment'] = df['Result_of_Treatment'].map({1: 'exito', 0: 'fracaso'})"
   ]
  },
  {
   "cell_type": "markdown",
   "id": "d5fa5c33",
   "metadata": {},
   "source": [
    "Tambien el tipo de verrugas las vamos a a decodificar"
   ]
  },
  {
   "cell_type": "code",
   "execution_count": 9,
   "id": "e172cffd",
   "metadata": {},
   "outputs": [],
   "source": [
    "df['Type'] = df['Type'].map({1: 'Comun', 2: 'Planta del pie', 3: 'Ambas'})"
   ]
  }
 ],
 "metadata": {
  "kernelspec": {
   "display_name": "Python 3",
   "language": "python",
   "name": "python3"
  },
  "language_info": {
   "codemirror_mode": {
    "name": "ipython",
    "version": 3
   },
   "file_extension": ".py",
   "mimetype": "text/x-python",
   "name": "python",
   "nbconvert_exporter": "python",
   "pygments_lexer": "ipython3",
   "version": "3.13.0"
  }
 },
 "nbformat": 4,
 "nbformat_minor": 5
}
